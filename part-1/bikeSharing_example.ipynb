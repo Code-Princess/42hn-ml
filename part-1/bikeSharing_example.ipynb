{
 "cells": [
  {
   "metadata": {
    "ExecuteTime": {
     "end_time": "2025-05-07T12:16:41.078333Z",
     "start_time": "2025-05-07T12:16:41.074567Z"
    }
   },
   "cell_type": "code",
   "source": [
    "from ucimlrepo import fetch_ucirepo\n",
    "import pandas as pd\n"
   ],
   "id": "852a8549df5c364e",
   "outputs": [],
   "execution_count": 1
  },
  {
   "metadata": {
    "ExecuteTime": {
     "end_time": "2025-05-07T12:16:44.850283Z",
     "start_time": "2025-05-07T12:16:41.083258Z"
    }
   },
   "cell_type": "code",
   "source": [
    "# fetch dataset\n",
    "bike_sharing = fetch_ucirepo(id=275)\n",
    "\n",
    "# data (as pandas dataframes)\n",
    "X = bike_sharing.data.features\n",
    "y = bike_sharing.data.targets\n",
    "\n",
    "# metadata\n",
    "# print(bike_sharing.metadata)\n",
    "\n",
    "# variable information\n",
    "print(bike_sharing.variables)\n",
    "\n",
    "# print(X.head())\n",
    "# print(y.head())\n",
    "\n"
   ],
   "id": "cfb8a687",
   "outputs": [
    {
     "name": "stdout",
     "output_type": "stream",
     "text": [
      "          name     role         type demographic  \\\n",
      "0      instant       ID      Integer        None   \n",
      "1       dteday  Feature         Date        None   \n",
      "2       season  Feature  Categorical        None   \n",
      "3           yr  Feature  Categorical        None   \n",
      "4         mnth  Feature  Categorical        None   \n",
      "5           hr  Feature  Categorical        None   \n",
      "6      holiday  Feature       Binary        None   \n",
      "7      weekday  Feature  Categorical        None   \n",
      "8   workingday  Feature       Binary        None   \n",
      "9   weathersit  Feature  Categorical        None   \n",
      "10        temp  Feature   Continuous        None   \n",
      "11       atemp  Feature   Continuous        None   \n",
      "12         hum  Feature   Continuous        None   \n",
      "13   windspeed  Feature   Continuous        None   \n",
      "14      casual    Other      Integer        None   \n",
      "15  registered    Other      Integer        None   \n",
      "16         cnt   Target      Integer        None   \n",
      "\n",
      "                                          description units missing_values  \n",
      "0                                        record index  None             no  \n",
      "1                                                date  None             no  \n",
      "2                1:winter, 2:spring, 3:summer, 4:fall  None             no  \n",
      "3                             year (0: 2011, 1: 2012)  None             no  \n",
      "4                                     month (1 to 12)  None             no  \n",
      "5                                      hour (0 to 23)  None             no  \n",
      "6   weather day is holiday or not (extracted from ...  None             no  \n",
      "7                                     day of the week  None             no  \n",
      "8   if day is neither weekend nor holiday is 1, ot...  None             no  \n",
      "9   - 1: Clear, Few clouds, Partly cloudy, Partly ...  None             no  \n",
      "10  Normalized temperature in Celsius. The values ...     C             no  \n",
      "11  Normalized feeling temperature in Celsius. The...     C             no  \n",
      "12  Normalized humidity. The values are divided to...  None             no  \n",
      "13  Normalized wind speed. The values are divided ...  None             no  \n",
      "14                              count of casual users  None             no  \n",
      "15                          count of registered users  None             no  \n",
      "16  count of total rental bikes including both cas...  None             no  \n"
     ]
    }
   ],
   "execution_count": 2
  },
  {
   "metadata": {
    "ExecuteTime": {
     "end_time": "2025-05-07T12:16:44.854364Z",
     "start_time": "2025-05-07T12:16:44.853100Z"
    }
   },
   "cell_type": "code",
   "source": "",
   "id": "e1da5ef2dac10642",
   "outputs": [],
   "execution_count": null
  }
 ],
 "metadata": {
  "kernelspec": {
   "display_name": "Python 3",
   "language": "python",
   "name": "python3"
  },
  "language_info": {
   "codemirror_mode": {
    "name": "ipython",
    "version": 3
   },
   "file_extension": ".py",
   "mimetype": "text/x-python",
   "name": "python",
   "nbconvert_exporter": "python",
   "pygments_lexer": "ipython3",
   "version": "3.9.6"
  }
 },
 "nbformat": 4,
 "nbformat_minor": 5
}
