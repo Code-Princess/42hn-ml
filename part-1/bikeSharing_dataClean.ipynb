{
 "cells": [
  {
   "cell_type": "code",
   "id": "initial_id",
   "metadata": {
    "collapsed": true,
    "ExecuteTime": {
     "end_time": "2025-05-06T12:36:31.207223Z",
     "start_time": "2025-05-06T12:36:31.203944Z"
    }
   },
   "source": [
    "import pandas as pd\n",
    "import matplotlib.pyplot as plt\n",
    "import seaborn as sns\n",
    "import numpy as np"
   ],
   "outputs": [],
   "execution_count": 7
  },
  {
   "metadata": {
    "ExecuteTime": {
     "end_time": "2025-05-06T12:36:31.227476Z",
     "start_time": "2025-05-06T12:36:31.212455Z"
    }
   },
   "cell_type": "code",
   "source": "hourData = pd.read_csv('bike+sharing+dataset/hour.csv')",
   "id": "3239d6fd797d9aac",
   "outputs": [],
   "execution_count": 8
  },
  {
   "metadata": {
    "ExecuteTime": {
     "end_time": "2025-05-06T12:51:07.715870Z",
     "start_time": "2025-05-06T12:51:07.697991Z"
    }
   },
   "cell_type": "code",
   "source": [
    " # Remove Columns with Very Low Correlation to All Others\n",
    "\n",
    " # Step 1: Compute the correlation matrix\n",
    "corr_matrix = hourData.corr(numeric_only=True)\n",
    "# Step 2: For each column, check if all absolute correlations (except self-correlation) are below 0.1\n",
    "low_corr_columns = [\n",
    "    col for col in corr_matrix.columns\n",
    "    if all(np.abs(corr_matrix[col].drop(col)) < 0.1)\n",
    "]\n",
    "# Step 3: Drop those low-correlation columns from the dataset\n",
    "hourData = hourData.drop(columns=low_corr_columns)\n",
    "\n",
    "# Optionally print what was removed\n",
    "print(\"Removed low-correlation columns:\", low_corr_columns)"
   ],
   "id": "534c48dc36935a7a",
   "outputs": [
    {
     "name": "stdout",
     "output_type": "stream",
     "text": [
      "Removed low-correlation columns: []\n"
     ]
    }
   ],
   "execution_count": 18
  }
 ],
 "metadata": {
  "kernelspec": {
   "display_name": "Python 3",
   "language": "python",
   "name": "python3"
  },
  "language_info": {
   "codemirror_mode": {
    "name": "ipython",
    "version": 2
   },
   "file_extension": ".py",
   "mimetype": "text/x-python",
   "name": "python",
   "nbconvert_exporter": "python",
   "pygments_lexer": "ipython2",
   "version": "2.7.6"
  }
 },
 "nbformat": 4,
 "nbformat_minor": 5
}
