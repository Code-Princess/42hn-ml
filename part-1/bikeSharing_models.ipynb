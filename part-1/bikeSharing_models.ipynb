{
 "cells": [
  {
   "metadata": {
    "ExecuteTime": {
     "end_time": "2025-05-08T08:43:45.066198Z",
     "start_time": "2025-05-08T08:43:43.234263Z"
    }
   },
   "cell_type": "code",
   "source": [
    "import pandas as pd\n",
    "import numpy as np\n",
    "from sklearn.model_selection import train_test_split, GridSearchCV\n",
    "from sklearn.pipeline import Pipeline\n",
    "from sklearn.compose import ColumnTransformer\n",
    "from sklearn.preprocessing import StandardScaler, OneHotEncoder\n",
    "from sklearn.linear_model import LinearRegression\n",
    "from sklearn.ensemble import RandomForestRegressor\n",
    "from xgboost import XGBRegressor\n",
    "from sklearn.metrics import mean_squared_error, mean_absolute_error, r2_score\n",
    "import mlflow\n",
    "import mlflow.sklearn\n",
    "\n",
    "mlflow.set_tracking_uri('http://localhost:5000')\n",
    "mlflow.set_experiment('MLflow BikeSharing')\n",
    "\n",
    "# Load the dataset\n",
    "hourData = pd.read_csv('bike+sharing+dataset/hour.csv')\n"
   ],
   "id": "50b78a64a677dc49",
   "outputs": [
    {
     "name": "stderr",
     "output_type": "stream",
     "text": [
      "/Users/level3/Desktop/Coding-Projects/42hn-ml/.venv/lib/python3.9/site-packages/urllib3/__init__.py:35: NotOpenSSLWarning: urllib3 v2 only supports OpenSSL 1.1.1+, currently the 'ssl' module is compiled with 'LibreSSL 2.8.3'. See: https://github.com/urllib3/urllib3/issues/3020\n",
      "  warnings.warn(\n"
     ]
    }
   ],
   "execution_count": 1
  },
  {
   "metadata": {
    "ExecuteTime": {
     "end_time": "2025-05-08T08:43:45.076064Z",
     "start_time": "2025-05-08T08:43:45.073283Z"
    }
   },
   "cell_type": "code",
   "source": [
    "def create_pipeline(estimator):\n",
    "    numerical_features = ['temp', 'atemp', 'hum', 'windspeed']\n",
    "    categorical_features = ['season', 'mnth', 'hr', 'weekday', 'weathersit']\n",
    "\n",
    "    numeric_transformer = Pipeline([\n",
    "        ('scaler', StandardScaler())\n",
    "    ])\n",
    "\n",
    "    categorical_transformer = Pipeline([\n",
    "        ('onehot', OneHotEncoder(handle_unknown='ignore'))\n",
    "    ])\n",
    "\n",
    "    preprocessor = ColumnTransformer([\n",
    "        ('num', numeric_transformer, numerical_features),\n",
    "        ('cat', categorical_transformer, categorical_features)\n",
    "    ])\n",
    "\n",
    "    pipeline = Pipeline([\n",
    "        ('preprocessor', preprocessor),\n",
    "        ('regressor', estimator)\n",
    "    ])\n",
    "\n",
    "    return pipeline\n"
   ],
   "id": "2cb88f3ba1f4bbdb",
   "outputs": [],
   "execution_count": 2
  },
  {
   "metadata": {
    "ExecuteTime": {
     "end_time": "2025-05-08T08:43:45.086461Z",
     "start_time": "2025-05-08T08:43:45.079439Z"
    }
   },
   "cell_type": "code",
   "source": [
    "X = hourData.drop(['instant', 'dteday', 'casual', 'registered', 'cnt'], axis=1)\n",
    "y = hourData['cnt']\n",
    "\n",
    "X_train, X_test, y_train, y_test = train_test_split(X, y, test_size=0.2, random_state=42)\n"
   ],
   "id": "fce573d9020285ab",
   "outputs": [],
   "execution_count": 3
  },
  {
   "metadata": {
    "ExecuteTime": {
     "end_time": "2025-05-08T08:43:45.092945Z",
     "start_time": "2025-05-08T08:43:45.089891Z"
    }
   },
   "cell_type": "code",
   "source": [
    "def evaluate_model(estimator, name, params=None):\n",
    "    pipeline = create_pipeline(estimator)\n",
    "\n",
    "    if params:\n",
    "        pipeline = GridSearchCV(pipeline, param_grid=params, cv=3, scoring='neg_root_mean_squared_error')\n",
    "\n",
    "    with mlflow.start_run(run_name=name):\n",
    "        pipeline.fit(X_train, y_train)\n",
    "        preds = pipeline.predict(X_test)\n",
    "\n",
    "        rmse = np.sqrt(mean_squared_error(y_test, preds))\n",
    "        mae = mean_absolute_error(y_test, preds)\n",
    "        r2 = r2_score(y_test, preds)\n",
    "\n",
    "        mlflow.log_param(\"model\", name)\n",
    "        if params and hasattr(pipeline, \"best_params_\"):\n",
    "            mlflow.log_params(pipeline.best_params_)\n",
    "        mlflow.log_metric(\"rmse\", rmse)\n",
    "        mlflow.log_metric(\"mae\", mae)\n",
    "        mlflow.log_metric(\"r2\", r2)\n",
    "        mlflow.sklearn.log_model(pipeline, \"model\")\n",
    "\n",
    "        print(f\"{name} -- RMSE: {rmse:.2f}, MAE: {mae:.2f}, R2: {r2:.2f}\")\n"
   ],
   "id": "27ae5211f0d74c79",
   "outputs": [],
   "execution_count": 4
  },
  {
   "metadata": {
    "jupyter": {
     "is_executing": true
    },
    "ExecuteTime": {
     "start_time": "2025-05-08T08:43:45.096424Z"
    }
   },
   "cell_type": "code",
   "source": [
    "# Linear Regression\n",
    "evaluate_model(LinearRegression(), \"LinearRegression\")\n",
    "\n",
    "# Random Forest with GridSearch\n",
    "rf_params = {\n",
    "    'regressor__n_estimators': [100, 200],\n",
    "    'regressor__max_depth': [10, 20]\n",
    "}\n",
    "evaluate_model(RandomForestRegressor(random_state=42), \"RandomForest\", rf_params)\n",
    "\n",
    "# XGBoost with GridSearch\n",
    "xgb_params = {\n",
    "    'regressor__n_estimators': [100, 200],\n",
    "    'regressor__learning_rate': [0.05, 0.1],\n",
    "    'regressor__max_depth': [3, 5]\n",
    "}\n",
    "evaluate_model(XGBRegressor(objective='reg:squarederror', random_state=42), \"XGBoost\", xgb_params)\n"
   ],
   "id": "4534e0be8f5959e3",
   "outputs": [],
   "execution_count": null
  }
 ],
 "metadata": {
  "kernelspec": {
   "display_name": "Python 3",
   "language": "python",
   "name": "python3"
  },
  "language_info": {
   "codemirror_mode": {
    "name": "ipython",
    "version": 2
   },
   "file_extension": ".py",
   "mimetype": "text/x-python",
   "name": "python",
   "nbconvert_exporter": "python",
   "pygments_lexer": "ipython2",
   "version": "2.7.6"
  }
 },
 "nbformat": 4,
 "nbformat_minor": 5
}
